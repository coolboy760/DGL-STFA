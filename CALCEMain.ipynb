{
 "cells": [
  {
   "cell_type": "code",
   "execution_count": null,
   "metadata": {},
   "outputs": [],
   "source": [
    "\n",
    "import matplotlib.pyplot as plt\n",
    "import math\n",
    "from sklearn.metrics import mean_squared_error, mean_absolute_error, r2_score,mean_absolute_percentage_error\n",
    "import numpy as np\n",
    "import os\n",
    "import pickle\n",
    "import yaml\n",
    "import torch\n",
    "import matplotlib.pyplot as plt\n",
    "import random\n",
    "from trainer import Trainer\n",
    "from dataloader import load_dataset\n",
    "from dataset import *\n",
    "from utils import dict2obj\n",
    "# random seed\n",
    "fix_seed = 2024\n",
    "random.seed(fix_seed)\n",
    "torch.manual_seed(fix_seed)\n",
    "np.random.seed(fix_seed)\n",
    "\n"
   ]
  },
  {
   "cell_type": "code",
   "execution_count": null,
   "metadata": {},
   "outputs": [],
   "source": [
    "\n",
    "config_file = 'config/calce.yaml'\n",
    "with open(config_file,encoding='utf-8') as file1:\n",
    "    cfg = yaml.load(file1,Loader=yaml.FullLoader)\n",
    "cfg = dict2obj(cfg)\n",
    "cfg.state_dict_path = f'checkpoints/batch_{cfg.batch_size}_lr_{cfg.lr}_epochs_{cfg.n_episodes}_{cfg.size[0]}_{cfg.size[2]}_{cfg.dataset_name}'\n",
    "train_loader,val_loader,test_loader,scaler = load_dataset(cfg.dataset_dir,cfg.size,cfg.test,cfg.val,cfg.batch_size,cfg.batch_size,cfg.batch_size)\n",
    "trainer = Trainer(cfg)\n",
    "trainer.train(train_loader,val_loader)"
   ]
  },
  {
   "cell_type": "code",
   "execution_count": null,
   "metadata": {},
   "outputs": [],
   "source": [
    "dataset_dir = 'data/CALCEDataset'\n",
    "pred_keys = ['CS2_35']\n",
    "PRED_LEN = cfg.size[2]\n",
    "stride = 1\n",
    "STD = 2.0\n",
    "trainer = Trainer(cfg,test=True)"
   ]
  },
  {
   "cell_type": "code",
   "execution_count": null,
   "metadata": {},
   "outputs": [],
   "source": [
    "with open(os.path.join(dataset_dir,'feature.pkl'),'rb') as f:\n",
    "    data_raw = pickle.load(f)\n",
    "f.close()"
   ]
  },
  {
   "cell_type": "code",
   "execution_count": null,
   "metadata": {},
   "outputs": [],
   "source": [
    "seqs =[]\n",
    "preds = []\n",
    "truth = []\n",
    "\n",
    "for key in pred_keys:\n",
    "    item = data_raw[key]\n",
    "    item = scaler.normalize(item)\n",
    "    indexs = np.arange(cfg.size[0], len(item[0])-PRED_LEN,stride)\n",
    "    seq,pred = get_patchs_from_item(indexs,item,cfg.size[0],PRED_LEN)\n",
    "    samples = torch.Tensor(seq).to(trainer.device)\n",
    "    out,adj_matrix = trainer.predict(samples)\n",
    "    out = scaler.inverse_transform(out)\n",
    "    preds.append(out.cpu().squeeze().numpy()/STD)\n",
    "    pred = scaler.inverse_transform(pred)\n",
    "    truth.append(pred.squeeze()/STD)\n",
    "    seqs.append(seq[:,-1])\n",
    "l = len(pred_keys)\n",
    "mse = [0]*l\n",
    "mae = [0]*l\n",
    "rmse = [0]*l\n",
    "\n",
    "for i in range(l):\n",
    "    mse[i] = mean_squared_error(truth[i],preds[i])\n",
    "    mae[i] = mean_absolute_error(truth[i],preds[i])\n",
    "    rmse[i] = math.sqrt(mse[i])\n",
    "\n",
    "print(f'mse: {mse},{np.mean(mse)}\\nrmse: {rmse},{np.mean(rmse)}\\nmae: {mae},{np.mean(mae)}\\n')"
   ]
  },
  {
   "cell_type": "code",
   "execution_count": null,
   "metadata": {},
   "outputs": [],
   "source": [
    "cols = len(pred_keys)\n",
    "fig,axes=plt.subplots(nrows=1,ncols=cols,figsize=(5*cols,4),dpi=100)\n",
    "for i in range(cols):\n",
    "    key = pred_keys[i]\n",
    "    # pred = preds[i]\n",
    "    cell = data_raw[key][-1]\n",
    "    start = cfg.size[0]\n",
    "    end = len(cell)-PRED_LEN\n",
    "    axes[i].plot(np.linspace(1,len(cell),len(cell)),cell/STD,\n",
    "                 color=(1,0,0),label=f'True')\n",
    "\n",
    "    axes[i].plot(np.linspace(start,end,math.ceil((end - start)/stride)),preds[i],\n",
    "                     color=(0,0,1-indexs[0]*0.0008),linestyle=\"--\",label=f'Prediction')\n",
    "\n",
    "    axes[i].set_title(f'Battery {pred_keys[i]}')\n",
    "    axes[i].set_xlabel('Number of Cycles')\n",
    "    axes[i].set_ylabel('SOH')\n",
    "    axes[i].legend()"
   ]
  }
 ],
 "metadata": {
  "kernelspec": {
   "display_name": "base",
   "language": "python",
   "name": "python3"
  },
  "language_info": {
   "codemirror_mode": {
    "name": "ipython",
    "version": 3
   },
   "file_extension": ".py",
   "mimetype": "text/x-python",
   "name": "python",
   "nbconvert_exporter": "python",
   "pygments_lexer": "ipython3",
   "version": "3.8.3"
  }
 },
 "nbformat": 4,
 "nbformat_minor": 2
}
